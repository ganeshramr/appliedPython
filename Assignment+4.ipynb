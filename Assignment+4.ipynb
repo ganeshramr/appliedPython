{
 "cells": [
  {
   "cell_type": "markdown",
   "metadata": {},
   "source": [
    "---\n",
    "\n",
    "_You are currently looking at **version 1.1** of this notebook. To download notebooks and datafiles, as well as get help on Jupyter notebooks in the Coursera platform, visit the [Jupyter Notebook FAQ](https://www.coursera.org/learn/python-data-analysis/resources/0dhYG) course resource._\n",
    "\n",
    "---"
   ]
  },
  {
   "cell_type": "code",
   "execution_count": 2,
   "metadata": {
    "collapsed": true
   },
   "outputs": [],
   "source": [
    "import pandas as pd\n",
    "import numpy as np\n",
    "from scipy.stats import ttest_ind"
   ]
  },
  {
   "cell_type": "markdown",
   "metadata": {},
   "source": [
    "# Assignment 4 - Hypothesis Testing\n",
    "This assignment requires more individual learning than previous assignments - you are encouraged to check out the [pandas documentation](http://pandas.pydata.org/pandas-docs/stable/) to find functions or methods you might not have used yet, or ask questions on [Stack Overflow](http://stackoverflow.com/) and tag them as pandas and python related. And of course, the discussion forums are open for interaction with your peers and the course staff.\n",
    "\n",
    "Definitions:\n",
    "* A _quarter_ is a specific three month period, Q1 is January through March, Q2 is April through June, Q3 is July through September, Q4 is October through December.\n",
    "* A _recession_ is defined as starting with two consecutive quarters of GDP decline, and ending with two consecutive quarters of GDP growth.\n",
    "* A _recession bottom_ is the quarter within a recession which had the lowest GDP.\n",
    "* A _university town_ is a city which has a high percentage of university students compared to the total population of the city.\n",
    "\n",
    "**Hypothesis**: University towns have their mean housing prices less effected by recessions. Run a t-test to compare the ratio of the mean price of houses in university towns the quarter before the recession starts compared to the recession bottom. (`price_ratio=quarter_before_recession/recession_bottom`)\n",
    "\n",
    "The following data files are available for this assignment:\n",
    "* From the [Zillow research data site](http://www.zillow.com/research/data/) there is housing data for the United States. In particular the datafile for [all homes at a city level](http://files.zillowstatic.com/research/public/City/City_Zhvi_AllHomes.csv), ```City_Zhvi_AllHomes.csv```, has median home sale prices at a fine grained level.\n",
    "* From the Wikipedia page on college towns is a list of [university towns in the United States](https://en.wikipedia.org/wiki/List_of_college_towns#College_towns_in_the_United_States) which has been copy and pasted into the file ```university_towns.txt```.\n",
    "* From Bureau of Economic Analysis, US Department of Commerce, the [GDP over time](http://www.bea.gov/national/index.htm#gdp) of the United States in current dollars (use the chained value in 2009 dollars), in quarterly intervals, in the file ```gdplev.xls```. For this assignment, only look at GDP data from the first quarter of 2000 onward.\n",
    "\n",
    "Each function in this assignment below is worth 10%, with the exception of ```run_ttest()```, which is worth 50%."
   ]
  },
  {
   "cell_type": "code",
   "execution_count": 173,
   "metadata": {},
   "outputs": [
    {
     "data": {
      "text/html": [
       "<div>\n",
       "<table border=\"1\" class=\"dataframe\">\n",
       "  <thead>\n",
       "    <tr style=\"text-align: right;\">\n",
       "      <th></th>\n",
       "      <th>RegionID</th>\n",
       "      <th>RegionName</th>\n",
       "      <th>State</th>\n",
       "      <th>Metro</th>\n",
       "      <th>CountyName</th>\n",
       "      <th>SizeRank</th>\n",
       "      <th>1996-04</th>\n",
       "      <th>1996-05</th>\n",
       "      <th>1996-06</th>\n",
       "      <th>1996-07</th>\n",
       "      <th>...</th>\n",
       "      <th>2015-11</th>\n",
       "      <th>2015-12</th>\n",
       "      <th>2016-01</th>\n",
       "      <th>2016-02</th>\n",
       "      <th>2016-03</th>\n",
       "      <th>2016-04</th>\n",
       "      <th>2016-05</th>\n",
       "      <th>2016-06</th>\n",
       "      <th>2016-07</th>\n",
       "      <th>2016-08</th>\n",
       "    </tr>\n",
       "  </thead>\n",
       "  <tbody>\n",
       "    <tr>\n",
       "      <th>0</th>\n",
       "      <td>6181</td>\n",
       "      <td>New York</td>\n",
       "      <td>New York</td>\n",
       "      <td>New York</td>\n",
       "      <td>Queens</td>\n",
       "      <td>1</td>\n",
       "      <td>NaN</td>\n",
       "      <td>NaN</td>\n",
       "      <td>NaN</td>\n",
       "      <td>NaN</td>\n",
       "      <td>...</td>\n",
       "      <td>573600</td>\n",
       "      <td>576200</td>\n",
       "      <td>578400</td>\n",
       "      <td>582200</td>\n",
       "      <td>588000</td>\n",
       "      <td>592200</td>\n",
       "      <td>592500</td>\n",
       "      <td>590200</td>\n",
       "      <td>588000</td>\n",
       "      <td>586400</td>\n",
       "    </tr>\n",
       "    <tr>\n",
       "      <th>1</th>\n",
       "      <td>12447</td>\n",
       "      <td>Los Angeles</td>\n",
       "      <td>California</td>\n",
       "      <td>Los Angeles-Long Beach-Anaheim</td>\n",
       "      <td>Los Angeles</td>\n",
       "      <td>2</td>\n",
       "      <td>155000.0</td>\n",
       "      <td>154600.0</td>\n",
       "      <td>154400.0</td>\n",
       "      <td>154200.0</td>\n",
       "      <td>...</td>\n",
       "      <td>558200</td>\n",
       "      <td>560800</td>\n",
       "      <td>562800</td>\n",
       "      <td>565600</td>\n",
       "      <td>569700</td>\n",
       "      <td>574000</td>\n",
       "      <td>577800</td>\n",
       "      <td>580600</td>\n",
       "      <td>583000</td>\n",
       "      <td>585100</td>\n",
       "    </tr>\n",
       "    <tr>\n",
       "      <th>2</th>\n",
       "      <td>17426</td>\n",
       "      <td>Chicago</td>\n",
       "      <td>Illinois</td>\n",
       "      <td>Chicago</td>\n",
       "      <td>Cook</td>\n",
       "      <td>3</td>\n",
       "      <td>109700.0</td>\n",
       "      <td>109400.0</td>\n",
       "      <td>109300.0</td>\n",
       "      <td>109300.0</td>\n",
       "      <td>...</td>\n",
       "      <td>207800</td>\n",
       "      <td>206900</td>\n",
       "      <td>206200</td>\n",
       "      <td>205800</td>\n",
       "      <td>206200</td>\n",
       "      <td>207300</td>\n",
       "      <td>208200</td>\n",
       "      <td>209100</td>\n",
       "      <td>211000</td>\n",
       "      <td>213000</td>\n",
       "    </tr>\n",
       "    <tr>\n",
       "      <th>3</th>\n",
       "      <td>13271</td>\n",
       "      <td>Philadelphia</td>\n",
       "      <td>Pennsylvania</td>\n",
       "      <td>Philadelphia</td>\n",
       "      <td>Philadelphia</td>\n",
       "      <td>4</td>\n",
       "      <td>50000.0</td>\n",
       "      <td>49900.0</td>\n",
       "      <td>49600.0</td>\n",
       "      <td>49400.0</td>\n",
       "      <td>...</td>\n",
       "      <td>122300</td>\n",
       "      <td>121600</td>\n",
       "      <td>121800</td>\n",
       "      <td>123300</td>\n",
       "      <td>125200</td>\n",
       "      <td>126400</td>\n",
       "      <td>127000</td>\n",
       "      <td>127400</td>\n",
       "      <td>128300</td>\n",
       "      <td>129100</td>\n",
       "    </tr>\n",
       "    <tr>\n",
       "      <th>4</th>\n",
       "      <td>40326</td>\n",
       "      <td>Phoenix</td>\n",
       "      <td>Arizona</td>\n",
       "      <td>Phoenix</td>\n",
       "      <td>Maricopa</td>\n",
       "      <td>5</td>\n",
       "      <td>87200.0</td>\n",
       "      <td>87700.0</td>\n",
       "      <td>88200.0</td>\n",
       "      <td>88400.0</td>\n",
       "      <td>...</td>\n",
       "      <td>183800</td>\n",
       "      <td>185300</td>\n",
       "      <td>186600</td>\n",
       "      <td>188000</td>\n",
       "      <td>189100</td>\n",
       "      <td>190200</td>\n",
       "      <td>191300</td>\n",
       "      <td>192800</td>\n",
       "      <td>194500</td>\n",
       "      <td>195900</td>\n",
       "    </tr>\n",
       "  </tbody>\n",
       "</table>\n",
       "<p>5 rows × 251 columns</p>\n",
       "</div>"
      ],
      "text/plain": [
       "   RegionID    RegionName         State                           Metro  \\\n",
       "0      6181      New York      New York                        New York   \n",
       "1     12447   Los Angeles    California  Los Angeles-Long Beach-Anaheim   \n",
       "2     17426       Chicago      Illinois                         Chicago   \n",
       "3     13271  Philadelphia  Pennsylvania                    Philadelphia   \n",
       "4     40326       Phoenix       Arizona                         Phoenix   \n",
       "\n",
       "     CountyName  SizeRank   1996-04   1996-05   1996-06   1996-07   ...     \\\n",
       "0        Queens         1       NaN       NaN       NaN       NaN   ...      \n",
       "1   Los Angeles         2  155000.0  154600.0  154400.0  154200.0   ...      \n",
       "2          Cook         3  109700.0  109400.0  109300.0  109300.0   ...      \n",
       "3  Philadelphia         4   50000.0   49900.0   49600.0   49400.0   ...      \n",
       "4      Maricopa         5   87200.0   87700.0   88200.0   88400.0   ...      \n",
       "\n",
       "   2015-11  2015-12  2016-01  2016-02  2016-03  2016-04  2016-05  2016-06  \\\n",
       "0   573600   576200   578400   582200   588000   592200   592500   590200   \n",
       "1   558200   560800   562800   565600   569700   574000   577800   580600   \n",
       "2   207800   206900   206200   205800   206200   207300   208200   209100   \n",
       "3   122300   121600   121800   123300   125200   126400   127000   127400   \n",
       "4   183800   185300   186600   188000   189100   190200   191300   192800   \n",
       "\n",
       "   2016-07  2016-08  \n",
       "0   588000   586400  \n",
       "1   583000   585100  \n",
       "2   211000   213000  \n",
       "3   128300   129100  \n",
       "4   194500   195900  \n",
       "\n",
       "[5 rows x 251 columns]"
      ]
     },
     "execution_count": 173,
     "metadata": {},
     "output_type": "execute_result"
    }
   ],
   "source": [
    "# Use this dictionary to map state names to two letter acronyms\n",
    "states = {'OH': 'Ohio', 'KY': 'Kentucky', 'AS': 'American Samoa', 'NV': 'Nevada', 'WY': 'Wyoming', 'NA': 'National', 'AL': 'Alabama', 'MD': 'Maryland', 'AK': 'Alaska', 'UT': 'Utah', 'OR': 'Oregon', 'MT': 'Montana', 'IL': 'Illinois', 'TN': 'Tennessee', 'DC': 'District of Columbia', 'VT': 'Vermont', 'ID': 'Idaho', 'AR': 'Arkansas', 'ME': 'Maine', 'WA': 'Washington', 'HI': 'Hawaii', 'WI': 'Wisconsin', 'MI': 'Michigan', 'IN': 'Indiana', 'NJ': 'New Jersey', 'AZ': 'Arizona', 'GU': 'Guam', 'MS': 'Mississippi', 'PR': 'Puerto Rico', 'NC': 'North Carolina', 'TX': 'Texas', 'SD': 'South Dakota', 'MP': 'Northern Mariana Islands', 'IA': 'Iowa', 'MO': 'Missouri', 'CT': 'Connecticut', 'WV': 'West Virginia', 'SC': 'South Carolina', 'LA': 'Louisiana', 'KS': 'Kansas', 'NY': 'New York', 'NE': 'Nebraska', 'OK': 'Oklahoma', 'FL': 'Florida', 'CA': 'California', 'CO': 'Colorado', 'PA': 'Pennsylvania', 'DE': 'Delaware', 'NM': 'New Mexico', 'RI': 'Rhode Island', 'MN': 'Minnesota', 'VI': 'Virgin Islands', 'NH': 'New Hampshire', 'MA': 'Massachusetts', 'GA': 'Georgia', 'ND': 'North Dakota', 'VA': 'Virginia'}\n",
    "\n",
    "\n",
    "homes = pd.read_csv('City_Zhvi_AllHomes.csv')\n",
    "homes['State'].replace(states,inplace='true')\n",
    "homes.head()\n",
    "\n",
    "\n"
   ]
  },
  {
   "cell_type": "code",
   "execution_count": 186,
   "metadata": {
    "scrolled": true,
    "umich_part_id": "021",
    "umich_partlist_id": "004"
   },
   "outputs": [],
   "source": [
    "def get_list_of_university_towns():\n",
    "    '''Returns a DataFrame of towns and the states they are in from the \n",
    "    university_towns.txt list. The format of the DataFrame should be:\n",
    "    DataFrame( [ [\"Michigan\", \"Ann Arbor\"], [\"Michigan\", \"Yipsilanti\"] ], \n",
    "    columns=[\"State\", \"RegionName\"]  )\n",
    "    \n",
    "    The following cleaning needs to be done:\n",
    "\n",
    "    1. For \"State\", removing characters from \"[\" to the end.\n",
    "    2. For \"RegionName\", when applicable, removing every character from \" (\" to the end.\n",
    "    3. Depending on how you read the data, you may need to remove newline character '\\n'. '''\n",
    "    result= pd.DataFrame(columns=['State','RegionName'])\n",
    "    utowns = pd.read_table('university_towns.txt', header=None,error_bad_lines=False, names=['rawdata'])\n",
    "    i = 0;\n",
    "    for data in utowns['rawdata']:\n",
    "        #data = row.to_string()\n",
    "        if 'edit'in data:\n",
    "            key = data.split('[')[0].strip()\n",
    "        else:\n",
    "            value = data.split('(')[0].strip()\n",
    "            result.loc[i] = [key,value]\n",
    "            i = i+1\n",
    "    return result\n",
    "\n"
   ]
  },
  {
   "cell_type": "code",
   "execution_count": 161,
   "metadata": {
    "umich_part_id": "022",
    "umich_partlist_id": "004"
   },
   "outputs": [
    {
     "data": {
      "text/plain": [
       "'2008q3'"
      ]
     },
     "execution_count": 161,
     "metadata": {},
     "output_type": "execute_result"
    }
   ],
   "source": [
    "def get_recession_start():\n",
    "    '''Returns the year and quarter of the recession start time as a \n",
    "    string value in a format such as 2005q3'''\n",
    "    gdplev = (pd.read_excel('gdplev.xls',skiprows=7,names=['remove1','remove2','remove3','remove4','YEARQ','GDP','GDPChained','remove5'])\n",
    "    .drop(['remove1','remove2','remove3','remove4','remove5'],axis=1))\n",
    "    gdplev['change-meter'] = gdplev['GDP'].diff()\n",
    "    answerIndex = 0;\n",
    "    foundOne = False\n",
    "    resultCounter = 0\n",
    "    resultIndex = 0\n",
    "    for data in gdplev['change-meter']:\n",
    "        if(data < 0):\n",
    "            if(foundOne):\n",
    "                \n",
    "                if(resultCounter == 0):\n",
    "                    resultCounter = resultCounter + 1\n",
    "                    resultIndex = answerIndex-2;  \n",
    "            foundOne = True\n",
    "        else:\n",
    "            foundOne = False\n",
    "            resultCounter = 0\n",
    "        answerIndex = answerIndex+1\n",
    "        \n",
    "    return gdplev.iloc[resultIndex]['YEARQ']\n",
    "\n"
   ]
  },
  {
   "cell_type": "code",
   "execution_count": 199,
   "metadata": {
    "umich_part_id": "023",
    "umich_partlist_id": "004"
   },
   "outputs": [
    {
     "data": {
      "text/plain": [
       "'2009q4'"
      ]
     },
     "execution_count": 199,
     "metadata": {},
     "output_type": "execute_result"
    }
   ],
   "source": [
    "def get_recession_end():\n",
    "    '''Returns the year and quarter of the recession end time as a \n",
    "    string value in a format such as 2005q3'''\n",
    "    gdplev = (pd.read_excel('gdplev.xls',skiprows=7,names=['remove1','remove2','remove3','remove4','YEARQ','GDP','GDPChained','remove5'])\n",
    "    .drop(['remove1','remove2','remove3','remove4','remove5'],axis=1))\n",
    "    gdplev['change-meter'] = gdplev['GDP'].diff()\n",
    "    answerIndex = 0;\n",
    "    foundOne = False\n",
    "    resultCounter = 0\n",
    "    resultIndex = 0\n",
    "    for data in gdplev['change-meter']:\n",
    "        if(data < 0):\n",
    "            if(foundOne):\n",
    "                \n",
    "                if(resultCounter == 0):\n",
    "                    resultCounter = resultCounter + 1\n",
    "                    resultIndex = answerIndex-1;  \n",
    "            foundOne = True\n",
    "        else:\n",
    "            foundOne = False\n",
    "            resultCounter = 0\n",
    "        answerIndex = answerIndex+1\n",
    "    \n",
    "    finalindex = resultIndex\n",
    "    for data in gdplev[resultIndex:]['change-meter']:\n",
    "        if(data > 0):\n",
    "            return gdplev.iloc[finalindex+1]['YEARQ']\n",
    "         \n",
    "        else:\n",
    "              finalindex = finalindex + 1\n",
    "                \n",
    "    return gdplev\n"
   ]
  },
  {
   "cell_type": "code",
   "execution_count": 73,
   "metadata": {
    "umich_part_id": "024",
    "umich_partlist_id": "004"
   },
   "outputs": [
    {
     "data": {
      "text/plain": [
       "'2009q2'"
      ]
     },
     "execution_count": 73,
     "metadata": {},
     "output_type": "execute_result"
    }
   ],
   "source": [
    "def get_recession_bottom():\n",
    "    '''Returns the year and quarter of the recession bottom time as a \n",
    "    string value in a format such as 2005q3'''\n",
    "    gdplev = (pd.read_excel('gdplev.xls',skiprows=7,names=['remove1','remove2','remove3','remove4','YEARQ','GDP','GDPChained','remove5'])\n",
    "    .drop(['remove1','remove2','remove3','remove4','remove5'],axis=1))\n",
    "    gdplev['change-meter'] = gdplev['GDP'].diff()\n",
    "    recessionDF = gdplev.loc[(gdplev['YEARQ']>=\"2008q3\")&(gdplev['YEARQ']<=\"2009q4\")]\n",
    "    \n",
    "    return gdplev.iloc[recessionDF['GDP'].argmin()]['YEARQ']\n"
   ]
  },
  {
   "cell_type": "code",
   "execution_count": 209,
   "metadata": {
    "umich_part_id": "025",
    "umich_partlist_id": "004"
   },
   "outputs": [
    {
     "data": {
      "text/plain": [
       "202266.66666666666"
      ]
     },
     "execution_count": 209,
     "metadata": {},
     "output_type": "execute_result"
    }
   ],
   "source": [
    "def convert_housing_data_to_quarters():\n",
    "    '''Converts the housing data to quarters and returns it as mean \n",
    "    values in a dataframe. This dataframe should be a dataframe with\n",
    "    columns for 2000q1 through 2016q3, and should have a multi-index\n",
    "    in the shape of [\"State\",\"RegionName\"].\n",
    "    \n",
    "    Note: Quarters are defined in the assignment description, they are\n",
    "    not arbitrary three month periods.\n",
    "    \n",
    "    The resulting dataframe should have 67 columns, and 10,730 rows.\n",
    "    '''\n",
    "  \n",
    "    house = pd.read_csv(\"City_Zhvi_AllHomes.csv\")\n",
    "    states = {'OH': 'Ohio', 'KY': 'Kentucky', 'AS': 'American Samoa', 'NV': 'Nevada', 'WY': 'Wyoming', 'NA': 'National', 'AL': 'Alabama', 'MD': 'Maryland', 'AK': 'Alaska', 'UT': 'Utah', 'OR': 'Oregon', 'MT': 'Montana', 'IL': 'Illinois', 'TN': 'Tennessee', 'DC': 'District of Columbia', 'VT': 'Vermont', 'ID': 'Idaho', 'AR': 'Arkansas', 'ME': 'Maine', 'WA': 'Washington', 'HI': 'Hawaii', 'WI': 'Wisconsin', 'MI': 'Michigan', 'IN': 'Indiana', 'NJ': 'New Jersey', 'AZ': 'Arizona', 'GU': 'Guam', 'MS': 'Mississippi', 'PR': 'Puerto Rico', 'NC': 'North Carolina', 'TX': 'Texas', 'SD': 'South Dakota', 'MP': 'Northern Mariana Islands', 'IA': 'Iowa', 'MO': 'Missouri', 'CT': 'Connecticut', 'WV': 'West Virginia', 'SC': 'South Carolina', 'LA': 'Louisiana', 'KS': 'Kansas', 'NY': 'New York', 'NE': 'Nebraska', 'OK': 'Oklahoma', 'FL': 'Florida', 'CA': 'California', 'CO': 'Colorado', 'PA': 'Pennsylvania', 'DE': 'Delaware', 'NM': 'New Mexico', 'RI': 'Rhode Island', 'MN': 'Minnesota', 'VI': 'Virgin Islands', 'NH': 'New Hampshire', 'MA': 'Massachusetts', 'GA': 'Georgia', 'ND': 'North Dakota', 'VA': 'Virginia'}\n",
    "    house['State'].replace(states,inplace='true')\n",
    "    filteredHouse = house.loc[:,\"2000-01\":\"2016-08\"]\n",
    "    filteredHouse.columns = pd.to_datetime(filteredHouse.columns).to_period(freq=\"M\")\n",
    "    ghouse = filteredHouse.groupby(filteredHouse.columns.asfreq(\"Q\"),axis=1).mean()\n",
    "    ghouse.columns = ghouse.columns.strftime('%Yq%q')\n",
    "    house = pd.merge(house.loc[:,\"RegionID\":\"SizeRank\"],ghouse,left_index=True,right_index=True,how=\"inner\")\n",
    "    \n",
    "    return house.set_index([\"State\",\"RegionName\"]).iloc[:,4:71]\n",
    "   \n",
    "\n",
    "convert_housing_data_to_quarters().loc[\"Texas\"].loc[\"Austin\"].loc[\"2010q3\"]"
   ]
  },
  {
   "cell_type": "code",
   "execution_count": 210,
   "metadata": {
    "umich_part_id": "026",
    "umich_partlist_id": "004"
   },
   "outputs": [
    {
     "data": {
      "text/plain": [
       "(True, 0.005496427353694603, 'university town')"
      ]
     },
     "execution_count": 210,
     "metadata": {},
     "output_type": "execute_result"
    }
   ],
   "source": [
    "from scipy import stats\n",
    "def run_ttest():\n",
    "    '''First creates new data showing the decline or growth of housing prices\n",
    "    between the recession start and the recession bottom. Then runs a ttest\n",
    "    comparing the university town values to the non-university towns values, \n",
    "    return whether the alternative hypothesis (that the two groups are the same)\n",
    "    is true or not as well as the p-value of the confidence. \n",
    "    \n",
    "    Return the tuple (different, p, better) where different=True if the t-test is\n",
    "    True at a p<0.01 (we reject the null hypothesis), or different=False if \n",
    "    otherwise (we cannot reject the null hypothesis). The variable p should\n",
    "    be equal to the exact p value returned from scipy.stats.ttest_ind(). The\n",
    "    value for better should be either \"university town\" or \"non-university town\"\n",
    "    depending on which has a lower mean price ratio (which is equivilent to a\n",
    "    reduced market loss).'''\n",
    "    \n",
    "    start = get_recession_start()\n",
    "    bottom = get_recession_bottom()\n",
    "    house = convert_housing_data_to_quarters().loc[:,[start,bottom]]\n",
    "    house.columns = [\"Start\",\"Bottom\"]\n",
    "    house[\"Ratio\"] = house.Start / house.Bottom \n",
    "    house = house.dropna(axis=0,how=\"any\")\n",
    "    collage = get_list_of_university_towns().set_index([\"State\",\"RegionName\"])\n",
    "    collage[\"isUnv\"] = \"Yes\"\n",
    "    res = pd.merge(house,collage,how=\"left\",left_index=True,right_index=True)\n",
    "    res.isUnv = res.isUnv.fillna(\"No\")\n",
    "    res_u = res[res.isUnv == \"Yes\"]['Ratio']\n",
    "    res_n = res[res.isUnv == \"No\"].Ratio\n",
    "\n",
    "    _,p = stats.ttest_ind(res_u,res_n)\n",
    "    different = (True if p < 0.01 else False)\n",
    "    better = (\"university town\" if np.nanmean(res_u) < np.nanmean(res_n) else \"non-university town\")\n",
    "    return different, p, better\n",
    "run_ttest()\n",
    "\n"
   ]
  },
  {
   "cell_type": "code",
   "execution_count": null,
   "metadata": {
    "collapsed": true
   },
   "outputs": [],
   "source": []
  }
 ],
 "metadata": {
  "coursera": {
   "course_slug": "python-data-analysis",
   "graded_item_id": "Il9Fx",
   "launcher_item_id": "TeDW0",
   "part_id": "WGlun"
  },
  "kernelspec": {
   "display_name": "Python 3",
   "language": "python",
   "name": "python3"
  },
  "language_info": {
   "codemirror_mode": {
    "name": "ipython",
    "version": 3
   },
   "file_extension": ".py",
   "mimetype": "text/x-python",
   "name": "python",
   "nbconvert_exporter": "python",
   "pygments_lexer": "ipython3",
   "version": "3.6.0"
  },
  "umich": {
   "id": "Assignment 4",
   "version": "1.1"
  }
 },
 "nbformat": 4,
 "nbformat_minor": 1
}
